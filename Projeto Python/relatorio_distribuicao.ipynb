{
 "cells": [
  {
   "cell_type": "code",
   "execution_count": 6,
   "metadata": {},
   "outputs": [],
   "source": [
    "import pandas as pd\n",
    "import matplotlib.pyplot as plt\n",
    "from fpdf import FPDF"
   ]
  },
  {
   "cell_type": "markdown",
   "metadata": {},
   "source": [
    "# Carregar os dados"
   ]
  },
  {
   "cell_type": "code",
   "execution_count": 7,
   "metadata": {},
   "outputs": [],
   "source": [
    "df = pd.read_csv('./ProuniRelatorioDadosAbertos2020.csv', sep=';', encoding='latin1')"
   ]
  },
  {
   "cell_type": "markdown",
   "metadata": {},
   "source": [
    "# Definir cursos de maior e menor prestígio"
   ]
  },
  {
   "cell_type": "code",
   "execution_count": 8,
   "metadata": {},
   "outputs": [],
   "source": [
    "cursos_maior_prestigio = ['Medicina', 'Direito', 'Engenharia', 'Odontologia']\n",
    "cursos_menor_prestigio = ['Pedagogia', 'Letras', 'Serviço Social', 'Licenciatura']"
   ]
  },
  {
   "cell_type": "code",
   "execution_count": 11,
   "metadata": {},
   "outputs": [
    {
     "name": "stdout",
     "output_type": "stream",
     "text": [
      "Gráfico salvo como grafico_distribuicao_com_valores.png e PDF criado como relatorio_distribuicao.pdf.\n"
     ]
    }
   ],
   "source": [
    "# Filtrar dados\n",
    "df_maior_prestigio = df[df['NOME_CURSO_BOLSA'].str.contains('|'.join(cursos_maior_prestigio), case=False, na=False)]\n",
    "grupo_maior_prestigio = df_maior_prestigio.groupby('RACA_BENEFICIARIO').size().reset_index(name='Quantidade')\n",
    "\n",
    "df_menor_prestigio = df[df['NOME_CURSO_BOLSA'].str.contains('|'.join(cursos_menor_prestigio), case=False, na=False)]\n",
    "grupo_menor_prestigio = df_menor_prestigio.groupby('RACA_BENEFICIARIO').size().reset_index(name='Quantidade')\n",
    "\n",
    "# Criar gráficos\n",
    "fig, ax = plt.subplots(1, 2, figsize=(14, 6))\n",
    "\n",
    "# Gráfico de barras para cursos de maior prestígio\n",
    "ax[0].bar(grupo_maior_prestigio['RACA_BENEFICIARIO'], grupo_maior_prestigio['Quantidade'], color='teal')\n",
    "ax[0].set_title('Distribuição por Cor/Raça\\nCursos de Maior Prestígio: Medicina, Direito, Engenharia, Odontologia')\n",
    "ax[0].set_ylabel('Número de Alunos')\n",
    "ax[0].set_xlabel('Cor/Raça')\n",
    "\n",
    "# Adicionar os valores em cima das barras para cursos de maior prestígio\n",
    "for i, valor in enumerate(grupo_maior_prestigio['Quantidade']):\n",
    "    ax[0].text(i, valor + 200, str(valor), ha='center')\n",
    "\n",
    "# Gráfico de barras para cursos de menor prestígio\n",
    "ax[1].bar(grupo_menor_prestigio['RACA_BENEFICIARIO'], grupo_menor_prestigio['Quantidade'], color='orange')\n",
    "ax[1].set_title('Distribuição por Cor/Raça\\nCursos de Menor Prestígio: Pedagogia, Letras, Serviço Social, Licenciatura')\n",
    "ax[1].set_ylabel('Número de Alunos')\n",
    "ax[1].set_xlabel('Cor/Raça')\n",
    "\n",
    "# Adicionar os valores em cima das barras para cursos de menor prestígio\n",
    "for i, valor in enumerate(grupo_menor_prestigio['Quantidade']):\n",
    "    ax[1].text(i, valor + 100, str(valor), ha='center')\n",
    "\n",
    "plt.tight_layout()\n",
    "\n",
    "# Salvar o gráfico como imagem\n",
    "image_path = 'grafico_distribuicao_com_valores.png'\n",
    "plt.savefig(image_path)\n",
    "plt.close()\n",
    "\n",
    "# Criar o PDF\n",
    "pdf = FPDF()\n",
    "pdf.add_page()\n",
    "pdf.set_font(\"Arial\", size=12)\n",
    "\n",
    "# Adicionar título\n",
    "pdf.set_font(\"Arial\", 'B', 16)\n",
    "pdf.cell(200, 10, txt=\"Análise de Distribuição por Cor/Raça em Cursos de Prestígio\", ln=True, align='C')\n",
    "\n",
    "# Adicionar explicações\n",
    "pdf.set_font(\"Arial\", size=12)\n",
    "pdf.ln(10)  # Espaçamento\n",
    "\n",
    "pdf.multi_cell(0, 10, (\n",
    "    \"Este relatório apresenta uma análise da distribuição por cor/raça dos alunos em cursos de maior e menor prestígio \"\n",
    "    \"com base nos dados de bolsas de estudos. Os cursos considerados de maior prestígio incluem Medicina, Direito, Engenharia \"\n",
    "    \"e Odontologia, enquanto os cursos de menor prestígio incluem Pedagogia, Letras, Serviço Social e Licenciatura.\\n\\n\"\n",
    "    \"O primeiro gráfico mostra a distribuição por cor/raça para os cursos de maior prestígio. A análise revela a concentração \"\n",
    "    \"de alunos em diferentes categorias raciais nesses cursos.\\n\\n\"\n",
    "    \"O segundo gráfico exibe a distribuição por cor/raça para os cursos de menor prestígio, proporcionando uma comparação com \"\n",
    "    \"os cursos de maior prestígio e ajudando a identificar possíveis disparidades na distribuição racial.\\n\\n\"\n",
    "    \"Os gráficos fornecem uma visão visual dos dados e podem ser úteis para discutir questões de equidade e acessibilidade em \"\n",
    "    \"educação superior.\"\n",
    "))\n",
    "\n",
    "# Adicionar imagem do gráfico\n",
    "pdf.ln(10)  # Espaçamento\n",
    "try:\n",
    "    pdf.image(image_path, x=10, y=pdf.get_y(), w=180)\n",
    "except Exception as e:\n",
    "    print(f\"Erro ao adicionar imagem ao PDF: {e}\")\n",
    "\n",
    "# Salvar o PDF\n",
    "pdf_output_path = 'relatorio_distribuicao.pdf'\n",
    "try:\n",
    "    pdf.output(pdf_output_path)\n",
    "    print(f\"Gráfico salvo como {image_path} e PDF criado como {pdf_output_path}.\")\n",
    "except Exception as e:\n",
    "    print(f\"Erro ao criar o PDF: {e}\")\n"
   ]
  }
 ],
 "metadata": {
  "kernelspec": {
   "display_name": "Python 3",
   "language": "python",
   "name": "python3"
  },
  "language_info": {
   "codemirror_mode": {
    "name": "ipython",
    "version": 3
   },
   "file_extension": ".py",
   "mimetype": "text/x-python",
   "name": "python",
   "nbconvert_exporter": "python",
   "pygments_lexer": "ipython3",
   "version": "3.12.3"
  }
 },
 "nbformat": 4,
 "nbformat_minor": 2
}
