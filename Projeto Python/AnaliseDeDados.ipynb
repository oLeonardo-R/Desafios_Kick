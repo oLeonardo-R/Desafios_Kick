{
 "cells": [
  {
   "cell_type": "code",
   "execution_count": 24,
   "metadata": {},
   "outputs": [],
   "source": [
    "import pandas as pd\n",
    "import matplotlib.pyplot as plt\n",
    "import seaborn as sns\n",
    "from fpdf import FPDF"
   ]
  },
  {
   "cell_type": "markdown",
   "metadata": {},
   "source": [
    "# 1 Carregar os dados"
   ]
  },
  {
   "cell_type": "code",
   "execution_count": 25,
   "metadata": {},
   "outputs": [],
   "source": [
    "# Carregar os dados do arquivo CSV\n",
    "df = pd.read_csv('./ProuniRelatorioDadosAbertos2020.csv', sep=';', encoding='latin1')"
   ]
  },
  {
   "cell_type": "code",
   "execution_count": 26,
   "metadata": {},
   "outputs": [
    {
     "name": "stdout",
     "output_type": "stream",
     "text": [
      "   ANO_CONCESSAO_BOLSA  CODIGO_EMEC_IES_BOLSA                NOME_IES_BOLSA  \\\n",
      "0                 2020                    322         UNIVERSIDADE PAULISTA   \n",
      "1                 2020                    163    UNIVERSIDADE ESTÁCIO DE SÁ   \n",
      "2                 2020                  17670     FACULDADE DE QUIXERAMOBIM   \n",
      "3                 2020                    203  UNIVERSIDADE SÃO JUDAS TADEU   \n",
      "4                 2020                    203  UNIVERSIDADE SÃO JUDAS TADEU   \n",
      "\n",
      "      MUNICIPIO                            CAMPUS TIPO_BOLSA  \\\n",
      "0      IPATINGA                          IPATINGA   INTEGRAL   \n",
      "1     FORTALEZA               EAD VIA CORPVS - CE   INTEGRAL   \n",
      "2  QUIXERAMOBIM  FACULDADE DE QUIXERAMOBIM - UNIQ   INTEGRAL   \n",
      "3     SAO PAULO                          PAULISTA    PARCIAL   \n",
      "4     SAO PAULO                          PAULISTA   INTEGRAL   \n",
      "\n",
      "  MODALIDADE_ENSINO_BOLSA NOME_CURSO_BOLSA NOME_TURNO_CURSO_BOLSA  \\\n",
      "0                     EAD        PEDAGOGIA      CURSO A DISTÂNCIA   \n",
      "1                     EAD        MARKETING      CURSO A DISTÂNCIA   \n",
      "2              PRESENCIAL         FARMÁCIA                NOTURNO   \n",
      "3              PRESENCIAL          DIREITO               MATUTINO   \n",
      "4              PRESENCIAL          DIREITO               MATUTINO   \n",
      "\n",
      "  CPF_BENEFICIARIO SEXO_BENEFICIARIO RACA_BENEFICIARIO DATA_NASCIMENTO  \\\n",
      "0   991.XXX.XXX-91                 F             Parda      11/08/1973   \n",
      "1   067.XXX.XXX-01                 M             Parda      13/05/1987   \n",
      "2   623.XXX.XXX-27                 M             Parda      23/07/2001   \n",
      "3   089.XXX.XXX-40                 F            Branca      04/04/2003   \n",
      "4   173.XXX.XXX-09                 F            Branca      07/12/1977   \n",
      "\n",
      "  BENEFICIARIO_DEFICIENTE_FISICO REGIAO_BENEFICIARIO UF_BENEFICIARIO  \\\n",
      "0                              N             SUDESTE              MG   \n",
      "1                              N            NORDESTE              CE   \n",
      "2                              N            NORDESTE              CE   \n",
      "3                              N            NORDESTE              BA   \n",
      "4                              N             SUDESTE              SP   \n",
      "\n",
      "  MUNICIPIO_BENEFICIARIO  \n",
      "0   GOVERNADOR VALADARES  \n",
      "1              FORTALEZA  \n",
      "2                MOMBACA  \n",
      "3                IBITITA  \n",
      "4              SAO PAULO  \n",
      "<class 'pandas.core.frame.DataFrame'>\n",
      "RangeIndex: 166830 entries, 0 to 166829\n",
      "Data columns (total 17 columns):\n",
      " #   Column                          Non-Null Count   Dtype \n",
      "---  ------                          --------------   ----- \n",
      " 0   ANO_CONCESSAO_BOLSA             166830 non-null  int64 \n",
      " 1   CODIGO_EMEC_IES_BOLSA           166830 non-null  int64 \n",
      " 2   NOME_IES_BOLSA                  166830 non-null  object\n",
      " 3   MUNICIPIO                       166830 non-null  object\n",
      " 4   CAMPUS                          166830 non-null  object\n",
      " 5   TIPO_BOLSA                      166830 non-null  object\n",
      " 6   MODALIDADE_ENSINO_BOLSA         166830 non-null  object\n",
      " 7   NOME_CURSO_BOLSA                166792 non-null  object\n",
      " 8   NOME_TURNO_CURSO_BOLSA          166830 non-null  object\n",
      " 9   CPF_BENEFICIARIO                166830 non-null  object\n",
      " 10  SEXO_BENEFICIARIO               166830 non-null  object\n",
      " 11  RACA_BENEFICIARIO               166830 non-null  object\n",
      " 12  DATA_NASCIMENTO                 166830 non-null  object\n",
      " 13  BENEFICIARIO_DEFICIENTE_FISICO  166830 non-null  object\n",
      " 14  REGIAO_BENEFICIARIO             166830 non-null  object\n",
      " 15  UF_BENEFICIARIO                 166830 non-null  object\n",
      " 16  MUNICIPIO_BENEFICIARIO          166830 non-null  object\n",
      "dtypes: int64(2), object(15)\n",
      "memory usage: 21.6+ MB\n",
      "None\n",
      "       ANO_CONCESSAO_BOLSA  CODIGO_EMEC_IES_BOLSA\n",
      "count             166830.0          166830.000000\n",
      "mean                2020.0            2270.745022\n",
      "std                    0.0            4063.329275\n",
      "min                 2020.0              10.000000\n",
      "25%                 2020.0             322.000000\n",
      "50%                 2020.0            1196.000000\n",
      "75%                 2020.0            1952.000000\n",
      "max                 2020.0           24488.000000\n"
     ]
    }
   ],
   "source": [
    "# Explorar os dados\n",
    "print(df.head())\n",
    "print(df.info())\n",
    "print(df.describe())\n",
    "\n",
    "# Limpar os dados, se necessário\n",
    "df.dropna(inplace=True)  "
   ]
  },
  {
   "cell_type": "markdown",
   "metadata": {},
   "source": [
    "# 2. Análise Interseccional"
   ]
  },
  {
   "cell_type": "code",
   "execution_count": 27,
   "metadata": {},
   "outputs": [
    {
     "name": "stdout",
     "output_type": "stream",
     "text": [
      "   SEXO_BENEFICIARIO RACA_BENEFICIARIO  Contagem\n",
      "0                  F           Amarela      1960\n",
      "1                  F            Branca     39666\n",
      "2                  F          Ind¡gena       102\n",
      "3                  F     Não Informada        49\n",
      "4                  F             Parda     46946\n",
      "5                  F             Preta     12394\n",
      "6                  M           Amarela       940\n",
      "7                  M            Branca     24797\n",
      "8                  M          Ind¡gena        51\n",
      "9                  M     Não Informada        19\n",
      "10                 M             Parda     31111\n",
      "11                 M             Preta      8757\n"
     ]
    }
   ],
   "source": [
    "# Exemplo de análise interseccional\n",
    "result = df.groupby(['SEXO_BENEFICIARIO', 'RACA_BENEFICIARIO']).size().reset_index(name='Contagem')\n",
    "print(result)\n"
   ]
  },
  {
   "cell_type": "markdown",
   "metadata": {},
   "source": [
    "# 3. Visualização dos Dados"
   ]
  },
  {
   "cell_type": "code",
   "execution_count": 30,
   "metadata": {},
   "outputs": [],
   "source": [
    "# Criação de gráfico\n",
    "plt.figure(figsize=(10, 6))\n",
    "sns.countplot(data=df, x='SEXO_BENEFICIARIO', hue='RACA_BENEFICIARIO')\n",
    "plt.title('Distribuição Interseccional de Gênero e Raça')\n",
    "\n",
    "# Salvar o gráfico como imagem\n",
    "plt.savefig('grafico_interseccional.png')\n",
    "plt.close()"
   ]
  },
  {
   "cell_type": "markdown",
   "metadata": {},
   "source": [
    "# 4. Gerar Relatório em PDF"
   ]
  },
  {
   "cell_type": "code",
   "execution_count": 33,
   "metadata": {},
   "outputs": [
    {
     "data": {
      "text/plain": [
       "''"
      ]
     },
     "execution_count": 33,
     "metadata": {},
     "output_type": "execute_result"
    }
   ],
   "source": [
    "class PDF(FPDF):\n",
    "    def header(self):\n",
    "        self.set_font('Arial', 'B', 12)\n",
    "        self.cell(0, 10, 'Relatório de Análise Interseccional', 0, 1, 'C')\n",
    "\n",
    "    def footer(self):\n",
    "        self.set_y(-15)\n",
    "        self.set_font('Arial', 'I', 8)\n",
    "        self.cell(0, 10, f'Page {self.page_no()}', 0, 0, 'C')\n",
    "\n",
    "    def chapter_title(self, title):\n",
    "        self.set_font('Arial', 'B', 12)\n",
    "        self.cell(0, 10, title, 0, 1, 'L')\n",
    "        self.ln(10)\n",
    "\n",
    "    def chapter_body(self, body):\n",
    "        self.set_font('Arial', '', 12)\n",
    "        self.multi_cell(0, 10, body)\n",
    "        self.ln()\n",
    "\n",
    "# Criar o PDF\n",
    "pdf = PDF()\n",
    "pdf.add_page()\n",
    "\n",
    "# Adicionar Título do Relatório\n",
    "pdf.chapter_title('Análise Interseccional de Dados')\n",
    "\n",
    "# Adicionar o conteúdo da análise\n",
    "texto_analise = (\n",
    "    \"Este relatório apresenta uma análise interseccional dos dados do Prouni \"\n",
    "    \"para o ano de 2020. A análise considera diferentes variáveis como gênero e raça, \"\n",
    "    \"visando identificar padrões e tendências.\"\n",
    ")\n",
    "\n",
    "pdf.chapter_body(texto_analise)\n",
    "\n",
    "# Adicionar Resultados da Análise\n",
    "pdf.chapter_title('Resultados da Análise')\n",
    "\n",
    "# Adicionar gráfico\n",
    "pdf.image('grafico_interseccional.png', x=10, y=None, w=180)\n",
    "\n",
    "# Salvar o PDF\n",
    "pdf.output('relatorio_interseccional_completo.pdf')"
   ]
  }
 ],
 "metadata": {
  "kernelspec": {
   "display_name": "Python 3",
   "language": "python",
   "name": "python3"
  },
  "language_info": {
   "codemirror_mode": {
    "name": "ipython",
    "version": 3
   },
   "file_extension": ".py",
   "mimetype": "text/x-python",
   "name": "python",
   "nbconvert_exporter": "python",
   "pygments_lexer": "ipython3",
   "version": "3.12.3"
  }
 },
 "nbformat": 4,
 "nbformat_minor": 2
}
